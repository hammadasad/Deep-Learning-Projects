{
 "cells": [
  {
   "cell_type": "markdown",
   "metadata": {
    "collapsed": true,
    "deletable": true,
    "editable": true
   },
   "source": [
    "# Image Classification\n",
    "In this project, you'll classify images from the [CIFAR-10 dataset](https://www.cs.toronto.edu/~kriz/cifar.html).  The dataset consists of airplanes, dogs, cats, and other objects. You'll preprocess the images, then train a convolutional neural network on all the samples. The images need to be normalized and the labels need to be one-hot encoded.  You'll get to apply what you learned and build a convolutional, max pooling, dropout, and fully connected layers.  At the end, you'll get to see your neural network's predictions on the sample images.\n",
    "## Get the Data\n",
    "Run the following cell to download the [CIFAR-10 dataset for python](https://www.cs.toronto.edu/~kriz/cifar-10-python.tar.gz)."
   ]
  },
  {
   "cell_type": "code",
   "execution_count": 1,
   "metadata": {
    "collapsed": false,
    "deletable": true,
    "editable": true
   },
   "outputs": [
    {
     "name": "stdout",
     "output_type": "stream",
     "text": [
      "All files found!\n"
     ]
    }
   ],
   "source": [
    "\"\"\"\n",
    "DON'T MODIFY ANYTHING IN THIS CELL THAT IS BELOW THIS LINE\n",
    "\"\"\"\n",
    "from urllib.request import urlretrieve\n",
    "from os.path import isfile, isdir\n",
    "from tqdm import tqdm\n",
    "import problem_unittests as tests\n",
    "import tarfile\n",
    "\n",
    "cifar10_dataset_folder_path = 'cifar-10-batches-py'\n",
    "\n",
    "class DLProgress(tqdm):\n",
    "    last_block = 0\n",
    "\n",
    "    def hook(self, block_num=1, block_size=1, total_size=None):\n",
    "        self.total = total_size\n",
    "        self.update((block_num - self.last_block) * block_size)\n",
    "        self.last_block = block_num\n",
    "\n",
    "if not isfile('cifar-10-python.tar.gz'):\n",
    "    with DLProgress(unit='B', unit_scale=True, miniters=1, desc='CIFAR-10 Dataset') as pbar:\n",
    "        urlretrieve(\n",
    "            'https://www.cs.toronto.edu/~kriz/cifar-10-python.tar.gz',\n",
    "            'cifar-10-python.tar.gz',\n",
    "            pbar.hook)\n",
    "\n",
    "if not isdir(cifar10_dataset_folder_path):\n",
    "    with tarfile.open('cifar-10-python.tar.gz') as tar:\n",
    "        tar.extractall()\n",
    "        tar.close()\n",
    "\n",
    "\n",
    "tests.test_folder_path(cifar10_dataset_folder_path)"
   ]
  },
  {
   "cell_type": "markdown",
   "metadata": {
    "deletable": true,
    "editable": true
   },
   "source": [
    "## Explore the Data\n",
    "The dataset is broken into batches to prevent your machine from running out of memory.  The CIFAR-10 dataset consists of 5 batches, named `data_batch_1`, `data_batch_2`, etc.. Each batch contains the labels and images that are one of the following:\n",
    "* airplane\n",
    "* automobile\n",
    "* bird\n",
    "* cat\n",
    "* deer\n",
    "* dog\n",
    "* frog\n",
    "* horse\n",
    "* ship\n",
    "* truck\n",
    "\n",
    "Understanding a dataset is part of making predictions on the data.  Play around with the code cell below by changing the `batch_id` and `sample_id`. The `batch_id` is the id for a batch (1-5). The `sample_id` is the id for a image and label pair in the batch.\n",
    "\n",
    "Ask yourself \"What are all possible labels?\", \"What is the range of values for the image data?\", \"Are the labels in order or random?\".  Answers to questions like these will help you preprocess the data and end up with better predictions."
   ]
  },
  {
   "cell_type": "code",
   "execution_count": 2,
   "metadata": {
    "collapsed": false,
    "deletable": true,
    "editable": true
   },
   "outputs": [
    {
     "name": "stdout",
     "output_type": "stream",
     "text": [
      "\n",
      "Stats of batch 1:\n",
      "Samples: 10000\n",
      "Label Counts: {0: 1005, 1: 974, 2: 1032, 3: 1016, 4: 999, 5: 937, 6: 1030, 7: 1001, 8: 1025, 9: 981}\n",
      "First 20 Labels: [6, 9, 9, 4, 1, 1, 2, 7, 8, 3, 4, 7, 7, 2, 9, 9, 9, 3, 2, 6]\n",
      "\n",
      "Example of Image 89:\n",
      "Image - Min Value: 12 Max Value: 249\n",
      "Image - Shape: (32, 32, 3)\n",
      "Label - Label Id: 4 Name: deer\n"
     ]
    },
    {
     "data": {
      "image/png": "[encoded data removed]",
      "text/plain": [
       "<matplotlib.figure.Figure at 0x7f07386336d8>"
      ]
     },
     "metadata": {
      "image/png": {
       "height": 250,
       "width": 253
      }
     },
     "output_type": "display_data"
    }
   ],
   "source": [
    "%matplotlib inline\n",
    "%config InlineBackend.figure_format = 'retina'\n",
    "\n",
    "import helper\n",
    "import numpy as np\n",
    "import tensorflow as tf\n",
    "\n",
    "# Explore the dataset\n",
    "batch_id = 1\n",
    "sample_id = 89\n",
    "helper.display_stats(cifar10_dataset_folder_path, batch_id, sample_id)"
   ]
  },
  {
   "cell_type": "markdown",
   "metadata": {
    "deletable": true,
    "editable": true
   },
   "source": [
    "## Implement Preprocess Functions\n",
    "### Normalize\n",
    "In the cell below, implement the `normalize` function to take in image data, `x`, and return it as a normalized Numpy array. The values should be in the range of 0 to 1, inclusive.  The return object should be the same shape as `x`."
   ]
  },
  {
   "cell_type": "code",
   "execution_count": 3,
   "metadata": {
    "collapsed": false,
    "deletable": true,
    "editable": true
   },
   "outputs": [
    {
     "name": "stdout",
     "output_type": "stream",
     "text": [
      "Tests Passed\n"
     ]
    }
   ],
   "source": [
    "def normalize(x):\n",
    "    \"\"\"\n",
    "    Normalize a list of sample image data in the range of 0 to 1\n",
    "    : x: List of image data.  The image shape is (32, 32, 3)\n",
    "    : return: Numpy array of normalize data\n",
    "    \"\"\"\n",
    "    return x / 255\n",
    "\n",
    "\n",
    "\"\"\"\n",
    "DON'T MODIFY ANYTHING IN THIS CELL THAT IS BELOW THIS LINE\n",
    "\"\"\"\n",
    "tests.test_normalize(normalize)"
   ]
  },
  {
   "cell_type": "markdown",
   "metadata": {
    "deletable": true,
    "editable": true
   },
   "source": [
    "### One-hot encode\n",
    "Just like the previous code cell, you'll be implementing a function for preprocessing.  This time, you'll implement the `one_hot_encode` function. The input, `x`, are a list of labels.  Implement the function to return the list of labels as One-Hot encoded Numpy array.  The possible values for labels are 0 to 9. The one-hot encoding function should return the same encoding for each value between each call to `one_hot_encode`.  Make sure to save the map of encodings outside the function.\n",
    "\n",
    "Hint: Don't reinvent the wheel."
   ]
  },
  {
   "cell_type": "code",
   "execution_count": 4,
   "metadata": {
    "collapsed": false,
    "deletable": true,
    "editable": true
   },
   "outputs": [
    {
     "name": "stdout",
     "output_type": "stream",
     "text": [
      "Tests Passed\n"
     ]
    }
   ],
   "source": [
    "def one_hot_encode(x):\n",
    "    \"\"\"\n",
    "    One hot encode a list of sample labels. Return a one-hot encoded vector for each label.\n",
    "    : x: List of sample Labels\n",
    "    : return: Numpy array of one-hot encoded labels\n",
    "    \"\"\"\n",
    "    one_hot = np.zeros((len(x), 10), np.int_)\n",
    "    for i, label in enumerate(x):\n",
    "        one_hot[i][label] = 1\n",
    "    return one_hot\n",
    "\n",
    "\n",
    "\"\"\"\n",
    "DON'T MODIFY ANYTHING IN THIS CELL THAT IS BELOW THIS LINE\n",
    "\"\"\"\n",
    "tests.test_one_hot_encode(one_hot_encode)"
   ]
  },
  {
   "cell_type": "markdown",
   "metadata": {
    "deletable": true,
    "editable": true
   },
   "source": [
    "### Randomize Data\n",
    "As you saw from exploring the data above, the order of the samples are randomized.  It doesn't hurt to randomize it again, but you don't need to for this dataset."
   ]
  },
  {
   "cell_type": "markdown",
   "metadata": {
    "deletable": true,
    "editable": true
   },
   "source": [
    "## Preprocess all the data and save it\n",
    "Running the code cell below will preprocess all the CIFAR-10 data and save it to file. The code below also uses 10% of the training data for validation."
   ]
  },
  {
   "cell_type": "code",
   "execution_count": 5,
   "metadata": {
    "collapsed": false,
    "deletable": true,
    "editable": true
   },
   "outputs": [],
   "source": [
    "\"\"\"\n",
    "DON'T MODIFY ANYTHING IN THIS CELL\n",
    "\"\"\"\n",
    "# Preprocess Training, Validation, and Testing Data\n",
    "helper.preprocess_and_save_data(cifar10_dataset_folder_path, normalize, one_hot_encode)"
   ]
  },
  {
   "cell_type": "markdown",
   "metadata": {
    "deletable": true,
    "editable": true
   },
   "source": [
    "# Check Point\n",
    "This is your first checkpoint.  If you ever decide to come back to this notebook or have to restart the notebook, you can start from here.  The preprocessed data has been saved to disk."
   ]
  },
  {
   "cell_type": "code",
   "execution_count": 1,
   "metadata": {
    "collapsed": true,
    "deletable": true,
    "editable": true
   },
   "outputs": [],
   "source": [
    "import tensorflow as tf"
   ]
  },
  {
   "cell_type": "code",
   "execution_count": 2,
   "metadata": {
    "collapsed": true,
    "deletable": true,
    "editable": true
   },
   "outputs": [],
   "source": [
    "\"\"\"\n",
    "DON'T MODIFY ANYTHING IN THIS CELL\n",
    "\"\"\"\n",
    "import pickle\n",
    "import problem_unittests as tests\n",
    "import helper\n",
    "\n",
    "# Load the Preprocessed Validation data\n",
    "valid_features, valid_labels = pickle.load(open('preprocess_validation.p', mode='rb'))"
   ]
  },
  {
   "cell_type": "markdown",
   "metadata": {
    "deletable": true,
    "editable": true
   },
   "source": [
    "## Build the network\n",
    "For the neural network, you'll build each layer into a function.  Most of the code you've seen has been outside of functions. To test your code more thoroughly, we require that you put each layer in a function.  This allows us to give you better feedback and test for simple mistakes using our unittests before you submit your project.\n",
    "\n",
    "If you're finding it hard to dedicate enough time for this course a week, we've provided a small shortcut to this part of the project. In the next couple of problems, you'll have the option to use [TensorFlow Layers](https://www.tensorflow.org/api_docs/python/tf/layers) or [TensorFlow Layers (contrib)](https://www.tensorflow.org/api_guides/python/contrib.layers) to build each layer, except \"Convolutional & Max Pooling\" layer.  TF Layers is similar to Keras's and TFLearn's abstraction to layers, so it's easy to pickup.\n",
    "\n",
    "If you would like to get the most of this course, try to solve all the problems without TF Layers.  Let's begin!\n",
    "### Input\n",
    "The neural network needs to read the image data, one-hot encoded labels, and dropout keep probability. Implement the following functions\n",
    "* Implement `neural_net_image_input`\n",
    " * Return a [TF Placeholder](https://www.tensorflow.org/api_docs/python/tf/placeholder)\n",
    " * Set the shape using `image_shape` with batch size set to `None`.\n",
    " * Name the TensorFlow placeholder \"x\" using the TensorFlow `name` parameter in the [TF Placeholder](https://www.tensorflow.org/api_docs/python/tf/placeholder).\n",
    "* Implement `neural_net_label_input`\n",
    " * Return a [TF Placeholder](https://www.tensorflow.org/api_docs/python/tf/placeholder)\n",
    " * Set the shape using `n_classes` with batch size set to `None`.\n",
    " * Name the TensorFlow placeholder \"y\" using the TensorFlow `name` parameter in the [TF Placeholder](https://www.tensorflow.org/api_docs/python/tf/placeholder).\n",
    "* Implement `neural_net_keep_prob_input`\n",
    " * Return a [TF Placeholder](https://www.tensorflow.org/api_docs/python/tf/placeholder) for dropout keep probability.\n",
    " * Name the TensorFlow placeholder \"keep_prob\" using the TensorFlow `name` parameter in the [TF Placeholder](https://www.tensorflow.org/api_docs/python/tf/placeholder).\n",
    "\n",
    "These names will be used at the end of the project to load your saved model.\n",
    "\n",
    "Note: `None` for shapes in TensorFlow allow for a dynamic size."
   ]
  },
  {
   "cell_type": "code",
   "execution_count": 3,
   "metadata": {
    "collapsed": false,
    "deletable": true,
    "editable": true
   },
   "outputs": [
    {
     "name": "stdout",
     "output_type": "stream",
     "text": [
      "Image Input Tests Passed.\n",
      "Label Input Tests Passed.\n",
      "Keep Prob Tests Passed.\n"
     ]
    }
   ],
   "source": [
    "def neural_net_image_input(image_shape):\n",
    "    \"\"\"\n",
    "    Return a Tensor for a bach of image input\n",
    "    : image_shape: Shape of the images\n",
    "    : return: Tensor for image input.\n",
    "    \"\"\"\n",
    "    return tf.placeholder(tf.float32, [None, *image_shape], \"x\")\n",
    "\n",
    "\n",
    "def neural_net_label_input(n_classes):\n",
    "    \"\"\"\n",
    "    Return a Tensor for a batch of label input\n",
    "    : n_classes: Number of classes\n",
    "    : return: Tensor for label input.\n",
    "    \"\"\"\n",
    "    return tf.placeholder(tf.float32, [None, n_classes], \"y\")\n",
    "\n",
    "\n",
    "def neural_net_keep_prob_input():\n",
    "    \"\"\"\n",
    "    Return a Tensor for keep probability\n",
    "    : return: Tensor for keep probability.\n",
    "    \"\"\"\n",
    "    return tf.placeholder(tf.float32, name = \"keep_prob\")\n",
    "\n",
    "\n",
    "\"\"\"\n",
    "DON'T MODIFY ANYTHING IN THIS CELL THAT IS BELOW THIS LINE\n",
    "\"\"\"\n",
    "tf.reset_default_graph()\n",
    "tests.test_nn_image_inputs(neural_net_image_input)\n",
    "tests.test_nn_label_inputs(neural_net_label_input)\n",
    "tests.test_nn_keep_prob_inputs(neural_net_keep_prob_input)"
   ]
  },
  {
   "cell_type": "markdown",
   "metadata": {
    "deletable": true,
    "editable": true
   },
   "source": [
    "### Convolution and Max Pooling Layer\n",
    "Convolution layers have a lot of success with images. For this code cell, you should implement the function `conv2d_maxpool` to apply convolution then max pooling:\n",
    "* Create the weight and bias using `conv_ksize`, `conv_num_outputs` and the shape of `x_tensor`.\n",
    "* Apply a convolution to `x_tensor` using weight and `conv_strides`.\n",
    " * We recommend you use same padding, but you're welcome to use any padding.\n",
    "* Add bias\n",
    "* Add a nonlinear activation to the convolution.\n",
    "* Apply Max Pooling using `pool_ksize` and `pool_strides`.\n",
    " * We recommend you use same padding, but you're welcome to use any padding.\n",
    "\n",
    "Note: You **can't** use [TensorFlow Layers](https://www.tensorflow.org/api_docs/python/tf/layers) or [TensorFlow Layers (contrib)](https://www.tensorflow.org/api_guides/python/contrib.layers) for this layer.  You're free to use any TensorFlow package for all the other layers."
   ]
  },
  {
   "cell_type": "code",
   "execution_count": 4,
   "metadata": {
    "collapsed": false,
    "deletable": true,
    "editable": true
   },
   "outputs": [
    {
     "name": "stdout",
     "output_type": "stream",
     "text": [
      "Tests Passed\n"
     ]
    }
   ],
   "source": [
    "def conv2d_maxpool(x_tensor, conv_num_outputs, conv_ksize, conv_strides, pool_ksize, pool_strides):\n",
    "    \"\"\"\n",
    "    Apply convolution then max pooling to x_tensor\n",
    "    :param x_tensor: TensorFlow Tensor\n",
    "    :param conv_num_outputs: Number of outputs for the convolutional layer\n",
    "    :param conv_ksize: kernal size 2-D Tuple for convolution\n",
    "    :param conv_strides: Stride 2-D Tuple for convolution\n",
    "    :param pool_ksize: kernal size 2-D Tuple for pool\n",
    "    :param pool_strides: Stride 2-D Tuple for pool\n",
    "    : return: A tensor that represents convolution and max pooling of x_tensor\n",
    "    \"\"\"\n",
    "    # used to rule out errors in my network\n",
    "    #conv_layer = tf.layers.conv2d(x_tensor, conv_num_outputs, conv_ksize, conv_strides, \"SAME\")\n",
    "    #conv_layer = tf.layers.max_pooling2d(conv_layer, pool_ksize, pool_strides, \"SAME\")\n",
    "    #return conv_layer\n",
    "\n",
    "    color_channels = x_tensor.get_shape().as_list()[-1]\n",
    "\n",
    "    # before setting stddev=0.1, my training validation accuracy never get over 0.1,\n",
    "    # after reading some source code of TensorFlow, I found a keyword \"stddev\", then search it in Slack,\n",
    "    # gotcha! accuracy get to 0.2 !\n",
    "    weights = tf.Variable(tf.truncated_normal([*conv_ksize, color_channels, conv_num_outputs], stddev=0.1))\n",
    "    # ~~but it stops at 0.2, and that's because I add extra `[]` in `tf.zeros` param!~~\n",
    "    # tf.zeros([3]) is the same as tf.zeros(3), it should be some error in ConvNet architecture, not the `[]`!\n",
    "    biases = tf.Variable(tf.zeros([conv_num_outputs]))\n",
    "\n",
    "    conv_layer = tf.nn.conv2d(x_tensor, weights, strides=[1, *conv_strides, 1], padding=\"SAME\")\n",
    "    conv_layer = tf.nn.bias_add(conv_layer, biases)\n",
    "    conv_layer = tf.nn.relu(conv_layer)\n",
    "\n",
    "    conv_layer = tf.nn.max_pool(conv_layer,\n",
    "                                ksize=[1, *pool_ksize, 1],\n",
    "                                strides=[1, *pool_strides, 1],\n",
    "                                padding='SAME')\n",
    "    return conv_layer\n",
    "\n",
    "\n",
    "\"\"\"\n",
    "DON'T MODIFY ANYTHING IN THIS CELL THAT IS BELOW THIS LINE\n",
    "\"\"\"\n",
    "tests.test_con_pool(conv2d_maxpool)"
   ]
  },
  {
   "cell_type": "markdown",
   "metadata": {
    "deletable": true,
    "editable": true
   },
   "source": [
    "### Flatten Layer\n",
    "Implement the `flatten` function to change the dimension of `x_tensor` from a 4-D tensor to a 2-D tensor.  The output should be the shape (*Batch Size*, *Flattened Image Size*). You can use [TensorFlow Layers](https://www.tensorflow.org/api_docs/python/tf/layers) or [TensorFlow Layers (contrib)](https://www.tensorflow.org/api_guides/python/contrib.layers) for this layer."
   ]
  },
  {
   "cell_type": "code",
   "execution_count": 5,
   "metadata": {
    "collapsed": false,
    "deletable": true,
    "editable": true
   },
   "outputs": [
    {
     "name": "stdout",
     "output_type": "stream",
     "text": [
      "Tests Passed\n"
     ]
    }
   ],
   "source": [
    "def flatten(x_tensor):\n",
    "    \"\"\"\n",
    "    Flatten x_tensor to (Batch Size, Flattened Image Size)\n",
    "    : x_tensor: A tensor of size (Batch Size, ...), where ... are the image dimensions.\n",
    "    : return: A tensor of size (Batch Size, Flattened Image Size).\n",
    "    \"\"\"\n",
    "    # use contrib layer instead\n",
    "    size = 1\n",
    "    for x in x_tensor.get_shape().as_list():\n",
    "       if (x is not None):\n",
    "           size = size * x\n",
    "    return tf.reshape(x_tensor, [-1, size])\n",
    "\n",
    "    # return tf.contrib.layers.flatten(x_tensor)\n",
    "\n",
    "\n",
    "\"\"\"\n",
    "DON'T MODIFY ANYTHING IN THIS CELL THAT IS BELOW THIS LINE\n",
    "\"\"\"\n",
    "tests.test_flatten(flatten)"
   ]
  },
  {
   "cell_type": "markdown",
   "metadata": {
    "deletable": true,
    "editable": true
   },
   "source": [
    "### Fully-Connected Layer\n",
    "Implement the `fully_conn` function to apply a fully connected layer to `x_tensor` with the shape (*Batch Size*, *num_outputs*). You can use [TensorFlow Layers](https://www.tensorflow.org/api_docs/python/tf/layers) or [TensorFlow Layers (contrib)](https://www.tensorflow.org/api_guides/python/contrib.layers) for this layer."
   ]
  },
  {
   "cell_type": "code",
   "execution_count": 6,
   "metadata": {
    "collapsed": false,
    "deletable": true,
    "editable": true
   },
   "outputs": [
    {
     "name": "stdout",
     "output_type": "stream",
     "text": [
      "Tests Passed\n"
     ]
    }
   ],
   "source": [
    "def fully_conn(x_tensor, num_outputs):\n",
    "    \"\"\"\n",
    "    Apply a fully connected layer to x_tensor using weight and bias\n",
    "    : x_tensor: A 2-D tensor where the first dimension is batch size.\n",
    "    : num_outputs: The number of output that the new tensor should be.\n",
    "    : return: A 2-D tensor where the second dimension is num_outputs.\n",
    "    \"\"\"\n",
    "    # use contrib layer instead\n",
    "    input_size = x_tensor.get_shape().as_list()[1]\n",
    "    # also stddev saves me!\n",
    "    weights = tf.Variable(tf.truncated_normal([input_size, num_outputs], stddev=0.1))\n",
    "    biases = tf.Variable(tf.zeros([num_outputs]))\n",
    "    fully_connected = tf.add(tf.matmul(x_tensor, weights), biases)\n",
    "    fully_connected = tf.nn.relu(fully_connected)\n",
    "    return fully_connected\n",
    "\n",
    "    # return tf.contrib.layers.fully_connected(x_tensor, num_outputs)\n",
    "\n",
    "\n",
    "\"\"\"\n",
    "DON'T MODIFY ANYTHING IN THIS CELL THAT IS BELOW THIS LINE\n",
    "\"\"\"\n",
    "tests.test_fully_conn(fully_conn)"
   ]
  },
  {
   "cell_type": "markdown",
   "metadata": {
    "deletable": true,
    "editable": true
   },
   "source": [
    "### Output Layer\n",
    "Implement the `output` function to apply a fully connected layer to `x_tensor` with the shape (*Batch Size*, *num_outputs*). You can use [TensorFlow Layers](https://www.tensorflow.org/api_docs/python/tf/layers) or [TensorFlow Layers (contrib)](https://www.tensorflow.org/api_guides/python/contrib.layers) for this layer.\n",
    "\n",
    "Note: Activation, softmax, or cross entropy shouldn't be applied to this."
   ]
  },
  {
   "cell_type": "code",
   "execution_count": 7,
   "metadata": {
    "collapsed": false,
    "deletable": true,
    "editable": true
   },
   "outputs": [
    {
     "name": "stdout",
     "output_type": "stream",
     "text": [
      "Tests Passed\n"
     ]
    }
   ],
   "source": [
    "def output(x_tensor, num_outputs):\n",
    "    \"\"\"\n",
    "    Apply a output layer to x_tensor using weight and bias\n",
    "    : x_tensor: A 2-D tensor where the first dimension is batch size.\n",
    "    : num_outputs: The number of output that the new tensor should be.\n",
    "    : return: A 2-D tensor where the second dimension is num_outputs.\n",
    "    \"\"\"\n",
    "    # use contrib layer instead\n",
    "    input_size = x_tensor.get_shape().as_list()[1]\n",
    "    weights = tf.Variable(tf.truncated_normal([input_size, num_outputs], stddev=0.1))\n",
    "    biases = tf.Variable(tf.zeros([num_outputs]))\n",
    "    out = tf.add(tf.matmul(x_tensor, weights), biases)\n",
    "    return out\n",
    "\n",
    "    # return tf.contrib.layers.fully_connected(x_tensor, num_outputs, None)\n",
    "\n",
    "\n",
    "\"\"\"\n",
    "DON'T MODIFY ANYTHING IN THIS CELL THAT IS BELOW THIS LINE\n",
    "\"\"\"\n",
    "tests.test_output(output)"
   ]
  },
  {
   "cell_type": "markdown",
   "metadata": {
    "deletable": true,
    "editable": true
   },
   "source": [
    "### Create Convolutional Model\n",
    "Implement the function `conv_net` to create a convolutional neural network model. The function takes in a batch of images, `x`, and outputs logits.  Use the layers you created above to create this model:\n",
    "\n",
    "* Apply 1, 2, or 3 Convolution and Max Pool layers\n",
    "* Apply a Flatten Layer\n",
    "* Apply 1, 2, or 3 Fully Connected Layers\n",
    "* Apply an Output Layer\n",
    "* Return the output\n",
    "* Apply [TensorFlow's Dropout](https://www.tensorflow.org/api_docs/python/tf/nn/dropout) to one or more layers in the model using `keep_prob`. "
   ]
  },
  {
   "cell_type": "code",
   "execution_count": 8,
   "metadata": {
    "collapsed": false,
    "deletable": true,
    "editable": true
   },
   "outputs": [
    {
     "name": "stdout",
     "output_type": "stream",
     "text": [
      "Neural Network Built!\n"
     ]
    }
   ],
   "source": [
    "def conv_net(x, keep_prob):\n",
    "    \"\"\"\n",
    "    Create a convolutional neural network model\n",
    "    : x: Placeholder tensor that holds image data.\n",
    "    : keep_prob: Placeholder tensor that hold dropout keep probability.\n",
    "    : return: Tensor that represents logits\n",
    "    \"\"\"\n",
    "    # TODO: Apply 1, 2, or 3 Convolution and Max Pool layers\n",
    "    #    Play around with different number of outputs, kernel size and stride\n",
    "    # Function Definition from Above:\n",
    "    #    conv2d_maxpool(x_tensor, conv_num_outputs, conv_ksize, conv_strides, pool_ksize, pool_strides)\n",
    "    # After exploring around, I find out such a good architecture, it get 0.4 at the third epoch\n",
    "    conv1 = conv2d_maxpool(x, 12, (3, 3), (1, 1), (2, 2), (2, 2))\n",
    "    conv2 = conv2d_maxpool(conv1, 24, (3, 3), (1, 1), (2, 2), (2, 2))\n",
    "    conv3 = conv2d_maxpool(conv2, 48, (3, 3), (1, 1), (2, 2), (2, 2))\n",
    "\n",
    "\n",
    "    # TODO: Apply a Flatten Layer\n",
    "    # Function Definition from Above:\n",
    "    #   flatten(x_tensor)\n",
    "    flat = flatten(conv3)\n",
    "\n",
    "\n",
    "    # TODO: Apply 1, 2, or 3 Fully Connected Layers\n",
    "    #    Play around with different number of outputs\n",
    "    # Function Definition from Above:\n",
    "    #   fully_conn(x_tensor, num_outputs)\n",
    "    fc1 = fully_conn(flat, 576)\n",
    "    fc1 = tf.nn.dropout(fc1, keep_prob)\n",
    "    fc2 = fully_conn(fc1, 384)\n",
    "    fc2 = tf.nn.dropout(fc2, keep_prob)\n",
    "    fc3 = fully_conn(fc2, 192)\n",
    "    fc3 = tf.nn.dropout(fc3, keep_prob)\n",
    "\n",
    "\n",
    "    # TODO: Apply an Output Layer\n",
    "    #    Set this to the number of classes\n",
    "    # Function Definition from Above:\n",
    "    #   output(x_tensor, num_outputs)\n",
    "    out = output(fc3, 10)\n",
    "\n",
    "\n",
    "    # TODO: return output\n",
    "    return out\n",
    "\n",
    "\n",
    "\"\"\"\n",
    "DON'T MODIFY ANYTHING IN THIS CELL THAT IS BELOW THIS LINE\n",
    "\"\"\"\n",
    "\n",
    "##############################\n",
    "## Build the Neural Network ##\n",
    "##############################\n",
    "\n",
    "# Remove previous weights, bias, inputs, etc..\n",
    "tf.reset_default_graph()\n",
    "\n",
    "# Inputs\n",
    "x = neural_net_image_input((32, 32, 3))\n",
    "y = neural_net_label_input(10)\n",
    "keep_prob = neural_net_keep_prob_input()\n",
    "\n",
    "# Model\n",
    "logits = conv_net(x, keep_prob)\n",
    "\n",
    "# Name logits Tensor, so that is can be loaded from disk after training\n",
    "logits = tf.identity(logits, name='logits')\n",
    "\n",
    "# Loss and Optimizer\n",
    "cost = tf.reduce_mean(tf.nn.softmax_cross_entropy_with_logits(logits=logits, labels=y))\n",
    "optimizer = tf.train.AdamOptimizer().minimize(cost)\n",
    "\n",
    "# Accuracy\n",
    "correct_pred = tf.equal(tf.argmax(logits, 1), tf.argmax(y, 1))\n",
    "accuracy = tf.reduce_mean(tf.cast(correct_pred, tf.float32), name='accuracy')\n",
    "\n",
    "tests.test_conv_net(conv_net)"
   ]
  },
  {
   "cell_type": "markdown",
   "metadata": {
    "deletable": true,
    "editable": true
   },
   "source": [
    "## Train the Neural Network\n",
    "### Single Optimization\n",
    "Implement the function `train_neural_network` to do a single optimization.  The optimization should use `optimizer` to optimize in `session` with a `feed_dict` of the following:\n",
    "* `x` for image input\n",
    "* `y` for labels\n",
    "* `keep_prob` for keep probability for dropout\n",
    "\n",
    "This function will be called for each batch, so `tf.global_variables_initializer()` has already been called.\n",
    "\n",
    "Note: Nothing needs to be returned. This function is only optimizing the neural network."
   ]
  },
  {
   "cell_type": "code",
   "execution_count": 9,
   "metadata": {
    "collapsed": false,
    "deletable": true,
    "editable": true
   },
   "outputs": [
    {
     "name": "stdout",
     "output_type": "stream",
     "text": [
      "Tests Passed\n"
     ]
    }
   ],
   "source": [
    "def train_neural_network(session, optimizer, keep_probability, feature_batch, label_batch):\n",
    "    \"\"\"\n",
    "    Optimize the session on a batch of images and labels\n",
    "    : session: Current TensorFlow session\n",
    "    : optimizer: TensorFlow optimizer function\n",
    "    : keep_probability: keep probability\n",
    "    : feature_batch: Batch of Numpy image data\n",
    "    : label_batch: Batch of Numpy label data\n",
    "    \"\"\"\n",
    "    session.run(optimizer, {x: feature_batch, y: label_batch, keep_prob: keep_probability})\n",
    "\n",
    "\n",
    "\"\"\"\n",
    "DON'T MODIFY ANYTHING IN THIS CELL THAT IS BELOW THIS LINE\n",
    "\"\"\"\n",
    "tests.test_train_nn(train_neural_network)"
   ]
  },
  {
   "cell_type": "markdown",
   "metadata": {
    "deletable": true,
    "editable": true
   },
   "source": [
    "### Show Stats\n",
    "Implement the function `print_stats` to print loss and validation accuracy.  Use the global variables `valid_features` and `valid_labels` to calculate validation accuracy.  Use a keep probability of `1.0` to calculate the loss and validation accuracy."
   ]
  },
  {
   "cell_type": "code",
   "execution_count": 10,
   "metadata": {
    "collapsed": false,
    "deletable": true,
    "editable": true
   },
   "outputs": [],
   "source": [
    "def print_stats(session, feature_batch, label_batch, cost, accuracy):\n",
    "    \"\"\"\n",
    "    Print information about loss and validation accuracy\n",
    "    : session: Current TensorFlow session\n",
    "    : feature_batch: Batch of Numpy image data\n",
    "    : label_batch: Batch of Numpy label data\n",
    "    : cost: TensorFlow cost function\n",
    "    : accuracy: TensorFlow accuracy function\n",
    "    \"\"\"\n",
    "    train_loss = session.run(cost, {x: feature_batch, y: label_batch, keep_prob: 1.})\n",
    "    valid_loss = session.run(cost, {x: valid_features, y: valid_labels, keep_prob: 1.})\n",
    "    valid_acc = session.run(accuracy, {x: valid_features, y: valid_labels, keep_prob: 1.})\n",
    "    print('Train Loss: {:>10.6f}, Validation Loss: {:>10.6f}, Validation Accuracy: {:.6f}'\n",
    "          .format(train_loss, valid_loss, valid_acc))"
   ]
  },
  {
   "cell_type": "markdown",
   "metadata": {
    "deletable": true,
    "editable": true
   },
   "source": [
    "### Hyperparameters\n",
    "Tune the following parameters:\n",
    "* Set `epochs` to the number of iterations until the network stops learning or start overfitting\n",
    "* Set `batch_size` to the highest number that your machine has memory for.  Most people set them to common sizes of memory:\n",
    " * 64\n",
    " * 128\n",
    " * 256\n",
    " * ...\n",
    "* Set `keep_probability` to the probability of keeping a node using dropout"
   ]
  },
  {
   "cell_type": "code",
   "execution_count": 11,
   "metadata": {
    "collapsed": true,
    "deletable": true,
    "editable": true
   },
   "outputs": [],
   "source": [
    "# TODO: Tune Parameters\n",
    "# Focusing on **validation loss**, it start increasing at 35 epoch\n",
    "# That's why test accuracy decrease from 66.12% to 64.87% when try 500 epoch.\n",
    "\n",
    "# AWS is awesome! In my MacBook Pro (15-inch, 2016), it takes 6s for one epoch, \n",
    "# AWS only need less then 1s!\n",
    "epochs = 20\n",
    "batch_size = 256\n",
    "keep_probability = 0.5"
   ]
  },
  {
   "cell_type": "markdown",
   "metadata": {
    "deletable": true,
    "editable": true
   },
   "source": [
    "### Train on a Single CIFAR-10 Batch\n",
    "Instead of training the neural network on all the CIFAR-10 batches of data, let's use a single batch. This should save time while you iterate on the model to get a better accuracy.  Once the final validation accuracy is 50% or greater, run the model on all the data in the next section."
   ]
  },
  {
   "cell_type": "code",
   "execution_count": 12,
   "metadata": {
    "collapsed": false,
    "deletable": true,
    "editable": true,
    "scrolled": false
   },
   "outputs": [
    {
     "name": "stdout",
     "output_type": "stream",
     "text": [
      "Checking the Training on a Single Batch...\n",
      "Epoch  1, CIFAR-10 Batch 1:  Train Loss:   2.268918, Validation Loss:   2.259794, Validation Accuracy: 0.211800\n",
      "time:  10.675379037857056\n",
      "Epoch  2, CIFAR-10 Batch 1:  Train Loss:   2.160260, Validation Loss:   2.080889, Validation Accuracy: 0.250000\n",
      "time:  10.504935026168823\n",
      "Epoch  3, CIFAR-10 Batch 1:  Train Loss:   2.059945, Validation Loss:   1.875814, Validation Accuracy: 0.344000\n",
      "time:  10.473457098007202\n",
      "Epoch  4, CIFAR-10 Batch 1:  Train Loss:   1.893252, Validation Loss:   1.744506, Validation Accuracy: 0.374600\n",
      "time:  10.218225955963135\n",
      "Epoch  5, CIFAR-10 Batch 1:  Train Loss:   1.727905, Validation Loss:   1.632463, Validation Accuracy: 0.401600\n",
      "time:  10.570580959320068\n",
      "Epoch  6, CIFAR-10 Batch 1:  Train Loss:   1.523394, Validation Loss:   1.530135, Validation Accuracy: 0.439400\n",
      "time:  11.529504776000977\n",
      "Epoch  7, CIFAR-10 Batch 1:  Train Loss:   1.354896, Validation Loss:   1.468127, Validation Accuracy: 0.459600\n",
      "time:  11.470361948013306\n",
      "Epoch  8, CIFAR-10 Batch 1:  Train Loss:   1.255479, Validation Loss:   1.449861, Validation Accuracy: 0.474600\n",
      "time:  10.979777097702026\n",
      "Epoch  9, CIFAR-10 Batch 1:  Train Loss:   1.116941, Validation Loss:   1.410594, Validation Accuracy: 0.482000\n",
      "time:  11.409393072128296\n",
      "Epoch 10, CIFAR-10 Batch 1:  Train Loss:   0.990115, Validation Loss:   1.379034, Validation Accuracy: 0.487800\n",
      "time:  11.329894781112671\n",
      "Epoch 11, CIFAR-10 Batch 1:  Train Loss:   0.899645, Validation Loss:   1.362519, Validation Accuracy: 0.500800\n",
      "time:  10.84614109992981\n",
      "Epoch 12, CIFAR-10 Batch 1:  Train Loss:   0.826965, Validation Loss:   1.348974, Validation Accuracy: 0.504400\n",
      "time:  10.951688051223755\n",
      "Epoch 13, CIFAR-10 Batch 1:  Train Loss:   0.784700, Validation Loss:   1.348329, Validation Accuracy: 0.503200\n",
      "time:  11.374778747558594\n",
      "Epoch 14, CIFAR-10 Batch 1:  Train Loss:   0.725345, Validation Loss:   1.306280, Validation Accuracy: 0.530000\n",
      "time:  11.029240846633911\n",
      "Epoch 15, CIFAR-10 Batch 1:  Train Loss:   0.642459, Validation Loss:   1.282570, Validation Accuracy: 0.533000\n",
      "time:  10.853949069976807\n",
      "Epoch 16, CIFAR-10 Batch 1:  Train Loss:   0.576536, Validation Loss:   1.310549, Validation Accuracy: 0.533200\n",
      "time:  10.58631682395935\n",
      "Epoch 17, CIFAR-10 Batch 1:  Train Loss:   0.489640, Validation Loss:   1.299273, Validation Accuracy: 0.538400\n",
      "time:  10.632530927658081\n",
      "Epoch 18, CIFAR-10 Batch 1:  Train Loss:   0.431037, Validation Loss:   1.278664, Validation Accuracy: 0.547800\n",
      "time:  10.562314987182617\n",
      "Epoch 19, CIFAR-10 Batch 1:  Train Loss:   0.373730, Validation Loss:   1.254162, Validation Accuracy: 0.557000\n",
      "time:  10.58630895614624\n",
      "Epoch 20, CIFAR-10 Batch 1:  Train Loss:   0.336780, Validation Loss:   1.325479, Validation Accuracy: 0.555200\n",
      "time:  10.494169235229492\n"
     ]
    }
   ],
   "source": [
    "\"\"\"\n",
    "DON'T MODIFY ANYTHING IN THIS CELL\n",
    "\"\"\"\n",
    "import time\n",
    "\n",
    "print('Checking the Training on a Single Batch...')\n",
    "with tf.Session() as sess:\n",
    "    # Initializing the variables\n",
    "    sess.run(tf.global_variables_initializer())\n",
    "    \n",
    "    # Training cycle\n",
    "    for epoch in range(epochs):\n",
    "        start = time.time()\n",
    "        batch_i = 1\n",
    "        for batch_features, batch_labels in helper.load_preprocess_training_batch(batch_i, batch_size):\n",
    "            train_neural_network(sess, optimizer, keep_probability, batch_features, batch_labels)\n",
    "        print('Epoch {:>2}, CIFAR-10 Batch {}:  '.format(epoch + 1, batch_i), end='')\n",
    "        print_stats(sess, batch_features, batch_labels, cost, accuracy)\n",
    "        end = time.time()\n",
    "        \n",
    "        print(\"time: \", end - start)"
   ]
  },
  {
   "cell_type": "markdown",
   "metadata": {
    "deletable": true,
    "editable": true
   },
   "source": [
    "### Fully Train the Model\n",
    "Now that you got a good accuracy with a single CIFAR-10 batch, try it with all five batches."
   ]
  },
  {
   "cell_type": "code",
   "execution_count": 13,
   "metadata": {
    "collapsed": false,
    "deletable": true,
    "editable": true,
    "scrolled": false
   },
   "outputs": [
    {
     "name": "stdout",
     "output_type": "stream",
     "text": [
      "Training...\n",
      "Epoch  1, CIFAR-10 Batch 1:  Train Loss:   2.277433, Validation Loss:   2.272536, Validation Accuracy: 0.165800\n",
      "Epoch  1, CIFAR-10 Batch 2:  Train Loss:   2.042140, Validation Loss:   1.983063, Validation Accuracy: 0.247200\n",
      "Epoch  1, CIFAR-10 Batch 3:  Train Loss:   1.772372, Validation Loss:   1.877608, Validation Accuracy: 0.287600\n",
      "Epoch  1, CIFAR-10 Batch 4:  Train Loss:   1.712026, Validation Loss:   1.717628, Validation Accuracy: 0.369800\n",
      "Epoch  1, CIFAR-10 Batch 5:  Train Loss:   1.592539, Validation Loss:   1.607434, Validation Accuracy: 0.394800\n",
      "Epoch  2, CIFAR-10 Batch 1:  Train Loss:   1.828369, Validation Loss:   1.533007, Validation Accuracy: 0.427200\n",
      "Epoch  2, CIFAR-10 Batch 2:  Train Loss:   1.591272, Validation Loss:   1.511945, Validation Accuracy: 0.424400\n",
      "Epoch  2, CIFAR-10 Batch 3:  Train Loss:   1.334141, Validation Loss:   1.502317, Validation Accuracy: 0.418200\n",
      "Epoch  2, CIFAR-10 Batch 4:  Train Loss:   1.382314, Validation Loss:   1.408079, Validation Accuracy: 0.487000\n",
      "Epoch  2, CIFAR-10 Batch 5:  Train Loss:   1.363558, Validation Loss:   1.380593, Validation Accuracy: 0.488800\n",
      "Epoch  3, CIFAR-10 Batch 1:  Train Loss:   1.496286, Validation Loss:   1.333257, Validation Accuracy: 0.517800\n",
      "Epoch  3, CIFAR-10 Batch 2:  Train Loss:   1.215620, Validation Loss:   1.293235, Validation Accuracy: 0.534400\n",
      "Epoch  3, CIFAR-10 Batch 3:  Train Loss:   1.175537, Validation Loss:   1.365968, Validation Accuracy: 0.507400\n",
      "Epoch  3, CIFAR-10 Batch 4:  Train Loss:   1.257751, Validation Loss:   1.272347, Validation Accuracy: 0.535800\n",
      "Epoch  3, CIFAR-10 Batch 5:  Train Loss:   1.104573, Validation Loss:   1.234274, Validation Accuracy: 0.551800\n",
      "Epoch  4, CIFAR-10 Batch 1:  Train Loss:   1.240908, Validation Loss:   1.235181, Validation Accuracy: 0.558800\n",
      "Epoch  4, CIFAR-10 Batch 2:  Train Loss:   0.988394, Validation Loss:   1.211526, Validation Accuracy: 0.560200\n",
      "Epoch  4, CIFAR-10 Batch 3:  Train Loss:   0.957806, Validation Loss:   1.162409, Validation Accuracy: 0.579400\n",
      "Epoch  4, CIFAR-10 Batch 4:  Train Loss:   1.015175, Validation Loss:   1.137878, Validation Accuracy: 0.590600\n",
      "Epoch  4, CIFAR-10 Batch 5:  Train Loss:   0.929349, Validation Loss:   1.111608, Validation Accuracy: 0.599000\n",
      "Epoch  5, CIFAR-10 Batch 1:  Train Loss:   1.074122, Validation Loss:   1.131829, Validation Accuracy: 0.599400\n",
      "Epoch  5, CIFAR-10 Batch 2:  Train Loss:   0.802327, Validation Loss:   1.101289, Validation Accuracy: 0.606400\n",
      "Epoch  5, CIFAR-10 Batch 3:  Train Loss:   0.744199, Validation Loss:   1.111859, Validation Accuracy: 0.594400\n",
      "Epoch  5, CIFAR-10 Batch 4:  Train Loss:   0.826265, Validation Loss:   1.087337, Validation Accuracy: 0.607200\n",
      "Epoch  5, CIFAR-10 Batch 5:  Train Loss:   0.778627, Validation Loss:   1.066870, Validation Accuracy: 0.609600\n",
      "Epoch  6, CIFAR-10 Batch 1:  Train Loss:   0.858696, Validation Loss:   1.132350, Validation Accuracy: 0.600000\n",
      "Epoch  6, CIFAR-10 Batch 2:  Train Loss:   0.732284, Validation Loss:   1.048350, Validation Accuracy: 0.627600\n",
      "Epoch  6, CIFAR-10 Batch 3:  Train Loss:   0.676483, Validation Loss:   1.078089, Validation Accuracy: 0.609200\n",
      "Epoch  6, CIFAR-10 Batch 4:  Train Loss:   0.686902, Validation Loss:   1.019133, Validation Accuracy: 0.636800\n",
      "Epoch  6, CIFAR-10 Batch 5:  Train Loss:   0.651460, Validation Loss:   1.036438, Validation Accuracy: 0.629800\n",
      "Epoch  7, CIFAR-10 Batch 1:  Train Loss:   0.689931, Validation Loss:   1.035663, Validation Accuracy: 0.638200\n",
      "Epoch  7, CIFAR-10 Batch 2:  Train Loss:   0.614712, Validation Loss:   1.026888, Validation Accuracy: 0.636600\n",
      "Epoch  7, CIFAR-10 Batch 3:  Train Loss:   0.540607, Validation Loss:   1.068467, Validation Accuracy: 0.624600\n",
      "Epoch  7, CIFAR-10 Batch 4:  Train Loss:   0.598641, Validation Loss:   0.982542, Validation Accuracy: 0.651800\n",
      "Epoch  7, CIFAR-10 Batch 5:  Train Loss:   0.532906, Validation Loss:   1.000678, Validation Accuracy: 0.644000\n",
      "Epoch  8, CIFAR-10 Batch 1:  Train Loss:   0.652525, Validation Loss:   1.070183, Validation Accuracy: 0.632800\n",
      "Epoch  8, CIFAR-10 Batch 2:  Train Loss:   0.513043, Validation Loss:   1.019260, Validation Accuracy: 0.646000\n",
      "Epoch  8, CIFAR-10 Batch 3:  Train Loss:   0.427119, Validation Loss:   1.010103, Validation Accuracy: 0.643200\n",
      "Epoch  8, CIFAR-10 Batch 4:  Train Loss:   0.524595, Validation Loss:   0.984209, Validation Accuracy: 0.653600\n",
      "Epoch  8, CIFAR-10 Batch 5:  Train Loss:   0.500726, Validation Loss:   0.974328, Validation Accuracy: 0.657600\n",
      "Epoch  9, CIFAR-10 Batch 1:  Train Loss:   0.532431, Validation Loss:   0.971726, Validation Accuracy: 0.666400\n",
      "Epoch  9, CIFAR-10 Batch 2:  Train Loss:   0.520278, Validation Loss:   0.967828, Validation Accuracy: 0.659400\n",
      "Epoch  9, CIFAR-10 Batch 3:  Train Loss:   0.332585, Validation Loss:   0.963610, Validation Accuracy: 0.659800\n",
      "Epoch  9, CIFAR-10 Batch 4:  Train Loss:   0.431788, Validation Loss:   0.965673, Validation Accuracy: 0.655800\n",
      "Epoch  9, CIFAR-10 Batch 5:  Train Loss:   0.393338, Validation Loss:   0.941447, Validation Accuracy: 0.673600\n",
      "Epoch 10, CIFAR-10 Batch 1:  Train Loss:   0.475529, Validation Loss:   0.956953, Validation Accuracy: 0.665600\n",
      "Epoch 10, CIFAR-10 Batch 2:  Train Loss:   0.448384, Validation Loss:   0.926482, Validation Accuracy: 0.682400\n",
      "Epoch 10, CIFAR-10 Batch 3:  Train Loss:   0.338985, Validation Loss:   1.015111, Validation Accuracy: 0.643400\n",
      "Epoch 10, CIFAR-10 Batch 4:  Train Loss:   0.398215, Validation Loss:   0.926313, Validation Accuracy: 0.678800\n",
      "Epoch 10, CIFAR-10 Batch 5:  Train Loss:   0.320160, Validation Loss:   0.914514, Validation Accuracy: 0.682400\n",
      "Epoch 11, CIFAR-10 Batch 1:  Train Loss:   0.444410, Validation Loss:   0.978997, Validation Accuracy: 0.660800\n",
      "Epoch 11, CIFAR-10 Batch 2:  Train Loss:   0.385606, Validation Loss:   0.915283, Validation Accuracy: 0.686600\n",
      "Epoch 11, CIFAR-10 Batch 3:  Train Loss:   0.246928, Validation Loss:   0.981759, Validation Accuracy: 0.669600\n",
      "Epoch 11, CIFAR-10 Batch 4:  Train Loss:   0.336191, Validation Loss:   0.923480, Validation Accuracy: 0.681000\n",
      "Epoch 11, CIFAR-10 Batch 5:  Train Loss:   0.262089, Validation Loss:   0.938814, Validation Accuracy: 0.675400\n",
      "Epoch 12, CIFAR-10 Batch 1:  Train Loss:   0.352439, Validation Loss:   0.946522, Validation Accuracy: 0.678800\n",
      "Epoch 12, CIFAR-10 Batch 2:  Train Loss:   0.331685, Validation Loss:   0.921742, Validation Accuracy: 0.678400\n",
      "Epoch 12, CIFAR-10 Batch 3:  Train Loss:   0.209271, Validation Loss:   0.944239, Validation Accuracy: 0.675800\n",
      "Epoch 12, CIFAR-10 Batch 4:  Train Loss:   0.289797, Validation Loss:   0.921310, Validation Accuracy: 0.679200\n",
      "Epoch 12, CIFAR-10 Batch 5:  Train Loss:   0.240442, Validation Loss:   0.902405, Validation Accuracy: 0.682400\n",
      "Epoch 13, CIFAR-10 Batch 1:  Train Loss:   0.298451, Validation Loss:   0.901345, Validation Accuracy: 0.693600\n",
      "Epoch 13, CIFAR-10 Batch 2:  Train Loss:   0.271701, Validation Loss:   0.884835, Validation Accuracy: 0.697600\n",
      "Epoch 13, CIFAR-10 Batch 3:  Train Loss:   0.170659, Validation Loss:   0.937234, Validation Accuracy: 0.682400\n",
      "Epoch 13, CIFAR-10 Batch 4:  Train Loss:   0.247665, Validation Loss:   0.950621, Validation Accuracy: 0.669600\n",
      "Epoch 13, CIFAR-10 Batch 5:  Train Loss:   0.179111, Validation Loss:   0.884281, Validation Accuracy: 0.696600\n",
      "Epoch 14, CIFAR-10 Batch 1:  Train Loss:   0.274036, Validation Loss:   0.889700, Validation Accuracy: 0.698200\n",
      "Epoch 14, CIFAR-10 Batch 2:  Train Loss:   0.254783, Validation Loss:   0.892052, Validation Accuracy: 0.691000\n",
      "Epoch 14, CIFAR-10 Batch 3:  Train Loss:   0.154998, Validation Loss:   0.912741, Validation Accuracy: 0.692800\n",
      "Epoch 14, CIFAR-10 Batch 4:  Train Loss:   0.241331, Validation Loss:   1.002677, Validation Accuracy: 0.664800\n",
      "Epoch 14, CIFAR-10 Batch 5:  Train Loss:   0.151081, Validation Loss:   0.894554, Validation Accuracy: 0.698400\n",
      "Epoch 15, CIFAR-10 Batch 1:  Train Loss:   0.266018, Validation Loss:   0.935804, Validation Accuracy: 0.686400\n",
      "Epoch 15, CIFAR-10 Batch 2:  Train Loss:   0.241093, Validation Loss:   0.924772, Validation Accuracy: 0.685400\n",
      "Epoch 15, CIFAR-10 Batch 3:  Train Loss:   0.191046, Validation Loss:   0.908941, Validation Accuracy: 0.693000\n",
      "Epoch 15, CIFAR-10 Batch 4:  Train Loss:   0.199746, Validation Loss:   0.938425, Validation Accuracy: 0.685400\n",
      "Epoch 15, CIFAR-10 Batch 5:  Train Loss:   0.150868, Validation Loss:   0.883953, Validation Accuracy: 0.704000\n",
      "Epoch 16, CIFAR-10 Batch 1:  Train Loss:   0.202294, Validation Loss:   0.884879, Validation Accuracy: 0.708000\n",
      "Epoch 16, CIFAR-10 Batch 2:  Train Loss:   0.168844, Validation Loss:   0.876330, Validation Accuracy: 0.703600\n",
      "Epoch 16, CIFAR-10 Batch 3:  Train Loss:   0.142414, Validation Loss:   0.951391, Validation Accuracy: 0.694000\n",
      "Epoch 16, CIFAR-10 Batch 4:  Train Loss:   0.186392, Validation Loss:   0.886734, Validation Accuracy: 0.690600\n",
      "Epoch 16, CIFAR-10 Batch 5:  Train Loss:   0.131222, Validation Loss:   0.928191, Validation Accuracy: 0.685600\n",
      "Epoch 17, CIFAR-10 Batch 1:  Train Loss:   0.224860, Validation Loss:   0.898540, Validation Accuracy: 0.692000\n",
      "Epoch 17, CIFAR-10 Batch 2:  Train Loss:   0.166851, Validation Loss:   0.877802, Validation Accuracy: 0.703800\n",
      "Epoch 17, CIFAR-10 Batch 3:  Train Loss:   0.093578, Validation Loss:   0.936459, Validation Accuracy: 0.698000\n",
      "Epoch 17, CIFAR-10 Batch 4:  Train Loss:   0.163809, Validation Loss:   0.917487, Validation Accuracy: 0.693600\n",
      "Epoch 17, CIFAR-10 Batch 5:  Train Loss:   0.095859, Validation Loss:   0.913953, Validation Accuracy: 0.702800\n",
      "Epoch 18, CIFAR-10 Batch 1:  Train Loss:   0.158291, Validation Loss:   0.911679, Validation Accuracy: 0.699800\n",
      "Epoch 18, CIFAR-10 Batch 2:  Train Loss:   0.157724, Validation Loss:   0.914445, Validation Accuracy: 0.690000\n",
      "Epoch 18, CIFAR-10 Batch 3:  Train Loss:   0.094878, Validation Loss:   0.927811, Validation Accuracy: 0.703600\n",
      "Epoch 18, CIFAR-10 Batch 4:  Train Loss:   0.136925, Validation Loss:   0.872055, Validation Accuracy: 0.706400\n",
      "Epoch 18, CIFAR-10 Batch 5:  Train Loss:   0.104011, Validation Loss:   0.931145, Validation Accuracy: 0.695400\n",
      "Epoch 19, CIFAR-10 Batch 1:  Train Loss:   0.122432, Validation Loss:   0.903948, Validation Accuracy: 0.699200\n",
      "Epoch 19, CIFAR-10 Batch 2:  Train Loss:   0.158965, Validation Loss:   0.894567, Validation Accuracy: 0.699600\n",
      "Epoch 19, CIFAR-10 Batch 3:  Train Loss:   0.087827, Validation Loss:   0.957588, Validation Accuracy: 0.696800\n",
      "Epoch 19, CIFAR-10 Batch 4:  Train Loss:   0.133754, Validation Loss:   0.895914, Validation Accuracy: 0.698000\n",
      "Epoch 19, CIFAR-10 Batch 5:  Train Loss:   0.066691, Validation Loss:   0.899543, Validation Accuracy: 0.706200\n",
      "Epoch 20, CIFAR-10 Batch 1:  Train Loss:   0.129751, Validation Loss:   0.923149, Validation Accuracy: 0.702200\n",
      "Epoch 20, CIFAR-10 Batch 2:  Train Loss:   0.136636, Validation Loss:   0.888690, Validation Accuracy: 0.701400\n",
      "Epoch 20, CIFAR-10 Batch 3:  Train Loss:   0.092486, Validation Loss:   0.975372, Validation Accuracy: 0.687600\n",
      "Epoch 20, CIFAR-10 Batch 4:  Train Loss:   0.115967, Validation Loss:   0.862813, Validation Accuracy: 0.702000\n",
      "Epoch 20, CIFAR-10 Batch 5:  Train Loss:   0.084417, Validation Loss:   0.928380, Validation Accuracy: 0.697200\n"
     ]
    }
   ],
   "source": [
    "\"\"\"\n",
    "DON'T MODIFY ANYTHING IN THIS CELL\n",
    "\"\"\"\n",
    "save_model_path = './image_classification'\n",
    "\n",
    "print('Training...')\n",
    "with tf.Session() as sess:\n",
    "    # Initializing the variables\n",
    "    sess.run(tf.global_variables_initializer())\n",
    "    \n",
    "    # Training cycle\n",
    "    for epoch in range(epochs):\n",
    "        # Loop over all batches\n",
    "        n_batches = 5\n",
    "        \n",
    "        for batch_i in range(1, n_batches + 1):\n",
    "            for batch_features, batch_labels in helper.load_preprocess_training_batch(batch_i, batch_size):\n",
    "                train_neural_network(sess, optimizer, keep_probability, batch_features, batch_labels)\n",
    "            print('Epoch {:>2}, CIFAR-10 Batch {}:  '.format(epoch + 1, batch_i), end='')\n",
    "            print_stats(sess, batch_features, batch_labels, cost, accuracy)\n",
    "            \n",
    "    # Save Model\n",
    "    saver = tf.train.Saver()\n",
    "    save_path = saver.save(sess, save_model_path)"
   ]
  },
  {
   "cell_type": "markdown",
   "metadata": {
    "deletable": true,
    "editable": true
   },
   "source": [
    "# Checkpoint\n",
    "The model has been saved to disk.\n",
    "## Test Model\n",
    "Test your model against the test dataset.  This will be your final accuracy. You should have an accuracy greater than 50%. If you don't, keep tweaking the model architecture and parameters."
   ]
  },
  {
   "cell_type": "code",
   "execution_count": 14,
   "metadata": {
    "collapsed": false,
    "deletable": true,
    "editable": true,
    "scrolled": false
   },
   "outputs": [
    {
     "name": "stdout",
     "output_type": "stream",
     "text": [
      "Testing Accuracy: 0.691015625\n",
      "\n"
     ]
    },
    {
     "data": {
      "image/png": "[encoded data removed]",
      "text/plain": [
       "<matplotlib.figure.Figure at 0x10e04f208>"
      ]
     },
     "metadata": {
      "image/png": {
       "height": 319,
       "width": 355
      }
     },
     "output_type": "display_data"
    }
   ],
   "source": [
    "\"\"\"\n",
    "DON'T MODIFY ANYTHING IN THIS CELL\n",
    "\"\"\"\n",
    "%matplotlib inline\n",
    "%config InlineBackend.figure_format = 'retina'\n",
    "\n",
    "import tensorflow as tf\n",
    "import pickle\n",
    "import helper\n",
    "import random\n",
    "\n",
    "# Set batch size if not already set\n",
    "try:\n",
    "    if batch_size:\n",
    "        pass\n",
    "except NameError:\n",
    "    batch_size = 64\n",
    "\n",
    "save_model_path = './image_classification'\n",
    "n_samples = 4\n",
    "top_n_predictions = 3\n",
    "\n",
    "def test_model():\n",
    "    \"\"\"\n",
    "    Test the saved model against the test dataset\n",
    "    \"\"\"\n",
    "\n",
    "    test_features, test_labels = pickle.load(open('preprocess_training.p', mode='rb'))\n",
    "    loaded_graph = tf.Graph()\n",
    "\n",
    "    with tf.Session(graph=loaded_graph) as sess:\n",
    "        # Load model\n",
    "        loader = tf.train.import_meta_graph(save_model_path + '.meta')\n",
    "        loader.restore(sess, save_model_path)\n",
    "\n",
    "        # Get Tensors from loaded model\n",
    "        loaded_x = loaded_graph.get_tensor_by_name('x:0')\n",
    "        loaded_y = loaded_graph.get_tensor_by_name('y:0')\n",
    "        loaded_keep_prob = loaded_graph.get_tensor_by_name('keep_prob:0')\n",
    "        loaded_logits = loaded_graph.get_tensor_by_name('logits:0')\n",
    "        loaded_acc = loaded_graph.get_tensor_by_name('accuracy:0')\n",
    "        \n",
    "        # Get accuracy in batches for memory limitations\n",
    "        test_batch_acc_total = 0\n",
    "        test_batch_count = 0\n",
    "        \n",
    "        for train_feature_batch, train_label_batch in helper.batch_features_labels(test_features, test_labels, batch_size):\n",
    "            test_batch_acc_total += sess.run(\n",
    "                loaded_acc,\n",
    "                feed_dict={loaded_x: train_feature_batch, loaded_y: train_label_batch, loaded_keep_prob: 1.0})\n",
    "            test_batch_count += 1\n",
    "\n",
    "        print('Testing Accuracy: {}\\n'.format(test_batch_acc_total/test_batch_count))\n",
    "\n",
    "        # Print Random Samples\n",
    "        random_test_features, random_test_labels = tuple(zip(*random.sample(list(zip(test_features, test_labels)), n_samples)))\n",
    "        random_test_predictions = sess.run(\n",
    "            tf.nn.top_k(tf.nn.softmax(loaded_logits), top_n_predictions),\n",
    "            feed_dict={loaded_x: random_test_features, loaded_y: random_test_labels, loaded_keep_prob: 1.0})\n",
    "        helper.display_image_predictions(random_test_features, random_test_labels, random_test_predictions)\n",
    "\n",
    "\n",
    "test_model()"
   ]
  },
  {
   "cell_type": "markdown",
   "metadata": {
    "deletable": true,
    "editable": true
   },
   "source": [
    "## Why 50-70% Accuracy?\n",
    "You might be wondering why you can't get an accuracy any higher. First things first, 50% isn't bad for a simple CNN.  Pure guessing would get you 10% accuracy. However, you might notice people are getting scores [well above 70%](http://rodrigob.github.io/are_we_there_yet/build/classification_datasets_results.html#43494641522d3130).  That's because we haven't taught you all there is to know about neural networks. We still need to cover a few more techniques.\n",
    "## Submitting This Project\n",
    "When submitting this project, make sure to run all the cells before saving the notebook.  Save the notebook file as \"dlnd_image_classification.ipynb\" and save it as a HTML file under \"File\" -> \"Download as\".  Include the \"helper.py\" and \"problem_unittests.py\" files in your submission."
   ]
  }
 ],
 "metadata": {
  "kernelspec": {
   "display_name": "Python 2",
   "language": "python",
   "name": "python2"
  },
  "language_info": {
   "codemirror_mode": {
    "name": "ipython",
    "version": 2
   },
   "file_extension": ".py",
   "mimetype": "text/x-python",
   "name": "python",
   "nbconvert_exporter": "python",
   "pygments_lexer": "ipython2",
   "version": "2.7.13"
  }
 },
 "nbformat": 4,
 "nbformat_minor": 0
}
